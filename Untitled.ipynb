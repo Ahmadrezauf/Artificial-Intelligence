{
 "cells": [
  {
   "cell_type": "code",
   "execution_count": 1,
   "metadata": {},
   "outputs": [],
   "source": [
    "from Perceptron import  Perceptron\n",
    "\n"
   ]
  },
  {
   "cell_type": "code",
   "execution_count": 2,
   "metadata": {},
   "outputs": [
    {
     "name": "stdout",
     "output_type": "stream",
     "text": [
      "None\n"
     ]
    }
   ],
   "source": [
    "priorWeights = [[1, 2,3] , [4, 5, 6], [7, 8, 9]]\n",
    "\n",
    "inputFeatures = [[43, 45, 78], [23, 87, 91], [12, 13, 90], [12, 25, 68], [96, 42, 48], [21, 15, 7], [42, 58, 68]]\n",
    "\n",
    "inputClasses = [1 ,2 ,2, 2, 1, 2, 1]\n",
    "\n",
    "testFeatures = [[12, 34, 65], [90, 43, 19], [12,60, 19]]\n",
    "\n",
    "output = Perceptron(priorWeights , inputFeatures, inputClasses, testFeatures)\n",
    "print(output)"
   ]
  },
  {
   "cell_type": "code",
   "execution_count": null,
   "metadata": {},
   "outputs": [],
   "source": []
  }
 ],
 "metadata": {
  "kernelspec": {
   "display_name": "Python 3",
   "language": "python",
   "name": "python3"
  },
  "language_info": {
   "codemirror_mode": {
    "name": "ipython",
    "version": 2
   },
   "file_extension": ".py",
   "mimetype": "text/x-python",
   "name": "python",
   "nbconvert_exporter": "python",
   "pygments_lexer": "ipython2",
   "version": "2.7.10"
  }
 },
 "nbformat": 4,
 "nbformat_minor": 2
}
